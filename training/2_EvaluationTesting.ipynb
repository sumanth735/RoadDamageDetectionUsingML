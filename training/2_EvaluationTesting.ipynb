{
 "cells": [
  {
   "cell_type": "code",
   "execution_count": 2,
   "metadata": {},
   "outputs": [],
   "source": [
    "from ultralytics import YOLO"
   ]
  },
  {
   "cell_type": "code",
   "execution_count": 1,
   "metadata": {},
   "outputs": [],
   "source": [
    "# japanIndia_Filtered\n",
    "_data = \"/home/oracl4/project/RoadDamageDetection/training/dataset/rddJapanIndiaFiltered/rdd_JapanIndia.yaml\""
   ]
  },
  {
   "cell_type": "code",
   "execution_count": 3,
   "metadata": {},
   "outputs": [
    {
     "name": "stderr",
     "output_type": "stream",
     "text": [
      "Ultralytics YOLOv8.0.201 🚀 Python-3.8.18 torch-2.0.0 CUDA:0 (NVIDIA GeForce RTX 2060, 6144MiB)\n",
      "Model summary (fused): 168 layers, 11127132 parameters, 0 gradients, 28.4 GFLOPs\n",
      "\u001b[34m\u001b[1mval: \u001b[0mScanning /home/oracl4/project/RoadDamageDetection/training/dataset/rddJapanIndiaFiltered/India/labels/val... 1294 images, 177 backgrounds, 0 corrupt: 100%|██████████| 1294/1294 [00:02<00:00, 593.68it/s]\n",
      "\u001b[34m\u001b[1mval: \u001b[0mNew cache created: /home/oracl4/project/RoadDamageDetection/training/dataset/rddJapanIndiaFiltered/India/labels/val.cache\n",
      "                 Class     Images  Instances      Box(P          R      mAP50  mAP50-95): 100%|██████████| 81/81 [00:27<00:00,  2.97it/s]\n",
      "                   all       1294       2272      0.584      0.523      0.547      0.254\n",
      "    Longitudinal Crack       1294        555      0.573      0.471      0.501      0.235\n",
      "      Transverse Crack       1294        371      0.522      0.433      0.454      0.177\n",
      "       Alligator Crack       1294        848      0.659      0.684      0.709      0.373\n",
      "              Potholes       1294        498      0.584      0.503      0.524      0.229\n",
      "Speed: 0.7ms preprocess, 9.3ms inference, 0.0ms loss, 3.4ms postprocess per image\n",
      "Results saved to \u001b[1mruns/detect/val\u001b[0m\n"
     ]
    }
   ],
   "source": [
    "weight_path = \"/home/oracl4/project/RoadDamageDetection/models/YOLOv8_Small_RDD.pt\"\n",
    "\n",
    "model = YOLO(weight_path)\n",
    "metrics = model.val(data=_data)"
   ]
  }
 ],
 "metadata": {
  "kernelspec": {
   "display_name": "rdd",
   "language": "python",
   "name": "python3"
  },
  "language_info": {
   "codemirror_mode": {
    "name": "ipython",
    "version": 3
   },
   "file_extension": ".py",
   "mimetype": "text/x-python",
   "name": "python",
   "nbconvert_exporter": "python",
   "pygments_lexer": "ipython3",
   "version": "3.8.18"
  }
 },
 "nbformat": 4,
 "nbformat_minor": 2
}
