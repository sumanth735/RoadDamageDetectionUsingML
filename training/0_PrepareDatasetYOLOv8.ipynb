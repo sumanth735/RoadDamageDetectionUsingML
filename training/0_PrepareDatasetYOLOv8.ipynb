{
 "cells": [
  {
   "cell_type": "code",
   "execution_count": 2,
   "metadata": {},
   "outputs": [],
   "source": [
    "# Immport\n",
    "from xml.dom import minidom\n",
    "import bs4 as bs\n",
    "import os\n",
    "from pathlib import Path\n",
    "import glob\n",
    "from tqdm import tqdm\n",
    "import random\n",
    "import shutil"
   ]
  },
  {
   "cell_type": "code",
   "execution_count": 3,
   "metadata": {},
   "outputs": [],
   "source": [
    "def convertPascal2YOLOv8(filePath):\n",
    "\n",
    "    class_mapping = {\n",
    "        \"D00\": 0,\n",
    "        \"D10\": 1,\n",
    "        \"D20\": 2,\n",
    "        \"D40\": 3,\n",
    "        \"D01\": 4,\n",
    "        \"D11\": 5,\n",
    "        \"D43\": 6,\n",
    "        \"D44\": 7,\n",
    "        \"D50\": 8\n",
    "    }\n",
    "    \n",
    "    # reading content\n",
    "    file = open(filePath, \"r\")\n",
    "    contents = file.read()\n",
    "\n",
    "    # parsing\n",
    "    soup = bs.BeautifulSoup(contents, 'xml')\n",
    "    image_size = soup.find_all(\"size\")[0]\n",
    "    image_width = int(image_size.find_all(\"width\")[0].get_text())\n",
    "    image_height = int(image_size.find_all(\"height\")[0].get_text())\n",
    "    # print(\"w,h :\", image_width, image_height)\n",
    "\n",
    "    # Process Bounding Box\n",
    "    objects = soup.find_all(\"object\")\n",
    "\n",
    "    # Placeholder\n",
    "    bounding_box_list = []\n",
    "    class_list = []\n",
    "\n",
    "    for object in objects:\n",
    "        \n",
    "        # Object Class\n",
    "        _class = object.find_all(\"name\")[0].get_text()\n",
    "        \n",
    "        # Map the class to int number, if not defined > 10\n",
    "        _class = class_mapping.get(_class, 10)\n",
    "        class_list.append(_class)\n",
    "        \n",
    "        # Object Bounding Box\n",
    "        _xmin = float(object.find_all(\"xmin\")[0].get_text())\n",
    "        _ymin = float(object.find_all(\"ymin\")[0].get_text())\n",
    "        _xmax = float(object.find_all(\"xmax\")[0].get_text())\n",
    "        _ymax = float(object.find_all(\"ymax\")[0].get_text())\n",
    "\n",
    "        # Convert to YOLOv8 Annotation\n",
    "        # class x_center y_center width height\n",
    "        w = (_xmax - _xmin)\n",
    "        h = (_ymax - _ymin)\n",
    "        cx = _xmin + (w/2)\n",
    "        cy = _ymin + (h/2)\n",
    "\n",
    "        # Normalize\n",
    "        w = round((w / image_width), 4)\n",
    "        h = round((h / image_height), 4)\n",
    "        cx = round((cx / image_width), 4)\n",
    "        cy = round((cy / image_height), 4)\n",
    "\n",
    "        _bbox = [cx, cy, w, h]\n",
    "\n",
    "        # print(_class, cx, cy, w, h)\n",
    "\n",
    "        bounding_box_list.append(_bbox)\n",
    "\n",
    "    # Get the filename\n",
    "    outputFilename = os.path.split(filePath)[1]\n",
    "    outputFilename = outputFilename.replace(\".xml\", \".txt\")\n",
    "\n",
    "    # Output Path\n",
    "    outputDir = Path(filePath).parents[2]\n",
    "    outputDir = outputDir / \"labels\"\n",
    "\n",
    "    # Check if the directory exists\n",
    "    if not os.path.exists(outputDir):\n",
    "        os.makedirs(outputDir)\n",
    "\n",
    "    # Final output path\n",
    "    outputPath = outputDir / outputFilename\n",
    "    # print(outputPath)\n",
    "\n",
    "    # Write to .txt file\n",
    "    with open(outputPath, 'w') as f:\n",
    "        for i in range(len(class_list)):\n",
    "\n",
    "            # Filter the class, drop unused class\n",
    "            # 0: D00 > Longitudinal Crack\n",
    "            # 1: D10 > Transverse Crack\n",
    "            # 2: D20 > Alligator Crack\n",
    "            # 3: D40 > Potholes\n",
    "            \n",
    "            if class_list[i] < 4:\n",
    "                anno = str(class_list[i]) + \" \" +  str(bounding_box_list[i][0]) + \" \" +  str(bounding_box_list[i][1]) + \" \" +  str(bounding_box_list[i][2]) + \" \" +  str(bounding_box_list[i][3]) + \"\\n\"\n",
    "                f.write(anno)"
   ]
  },
  {
   "cell_type": "code",
   "execution_count": 6,
   "metadata": {},
   "outputs": [
    {
     "name": "stdout",
     "output_type": "stream",
     "text": [
      "/home/oracl4/project/rdd/dataset/RDD2022/RDD2022_all_countries/Japan/train/annotations/xmls\n"
     ]
    },
    {
     "name": "stderr",
     "output_type": "stream",
     "text": [
      "  0%|          | 0/10506 [00:00<?, ?it/s]"
     ]
    },
    {
     "name": "stderr",
     "output_type": "stream",
     "text": [
      "100%|██████████| 10506/10506 [00:26<00:00, 402.97it/s]\n"
     ]
    },
    {
     "name": "stdout",
     "output_type": "stream",
     "text": [
      "/home/oracl4/project/rdd/dataset/RDD2022/RDD2022_all_countries/India/train/annotations/xmls\n"
     ]
    },
    {
     "name": "stderr",
     "output_type": "stream",
     "text": [
      "100%|██████████| 7706/7706 [00:13<00:00, 568.98it/s]\n"
     ]
    },
    {
     "name": "stdout",
     "output_type": "stream",
     "text": [
      "/home/oracl4/project/rdd/dataset/RDD2022/RDD2022_all_countries/China_Drone/train/annotations/xmls\n"
     ]
    },
    {
     "name": "stderr",
     "output_type": "stream",
     "text": [
      "100%|██████████| 2401/2401 [00:04<00:00, 482.11it/s]\n"
     ]
    },
    {
     "name": "stdout",
     "output_type": "stream",
     "text": [
      "/home/oracl4/project/rdd/dataset/RDD2022/RDD2022_all_countries/China_MotorBike/train/annotations/xmls\n"
     ]
    },
    {
     "name": "stderr",
     "output_type": "stream",
     "text": [
      "100%|██████████| 1977/1977 [00:05<00:00, 330.54it/s]\n"
     ]
    },
    {
     "name": "stdout",
     "output_type": "stream",
     "text": [
      "/home/oracl4/project/rdd/dataset/RDD2022/RDD2022_all_countries/Czech/train/annotations/xmls\n"
     ]
    },
    {
     "name": "stderr",
     "output_type": "stream",
     "text": [
      "100%|██████████| 2829/2829 [00:03<00:00, 718.58it/s]\n"
     ]
    },
    {
     "name": "stdout",
     "output_type": "stream",
     "text": [
      "/home/oracl4/project/rdd/dataset/RDD2022/RDD2022_all_countries/Norway/Norway/train/annotations/xmls\n"
     ]
    },
    {
     "name": "stderr",
     "output_type": "stream",
     "text": [
      "100%|██████████| 8161/8161 [00:17<00:00, 477.85it/s]\n"
     ]
    },
    {
     "name": "stdout",
     "output_type": "stream",
     "text": [
      "/home/oracl4/project/rdd/dataset/RDD2022/RDD2022_all_countries/United_States/United_States/train/annotations/xmls\n"
     ]
    },
    {
     "name": "stderr",
     "output_type": "stream",
     "text": [
      "100%|██████████| 4805/4805 [00:11<00:00, 418.99it/s]\n"
     ]
    }
   ],
   "source": [
    "# Dataset Root Directory\n",
    "ROOTDIR = \"/home/oracl4/project/rdd/dataset/RDD2022/\"\n",
    "\n",
    "# Base Directory\n",
    "CountryListDir = [\"RDD2022_all_countries/Japan/train/annotations/xmls\",\n",
    "                  \"RDD2022_all_countries/India/train/annotations/xmls\",\n",
    "                  \"RDD2022_all_countries/China_Drone/train/annotations/xmls\",\n",
    "                  \"RDD2022_all_countries/China_MotorBike/train/annotations/xmls\",\n",
    "                  \"RDD2022_all_countries/Czech/train/annotations/xmls\",\n",
    "                  \"RDD2022_all_countries/Norway/Norway/train/annotations/xmls\",\n",
    "                  \"RDD2022_all_countries/United_States/United_States/train/annotations/xmls\",\n",
    "]\n",
    "\n",
    "for CountryDir in CountryListDir:\n",
    "    \n",
    "    CountryDir = ROOTDIR + CountryDir\n",
    "    fileList = sorted(glob.glob(CountryDir + \"/*.xml\"))\n",
    "\n",
    "    # Processing all the annotation\n",
    "    for file in tqdm(fileList):\n",
    "        convertPascal2YOLOv8(file)\n",
    "        # break"
   ]
  },
  {
   "cell_type": "code",
   "execution_count": 7,
   "metadata": {},
   "outputs": [],
   "source": [
    "def CopyDatasetSplit(baseDir):\n",
    "    \n",
    "    # Split the training data to train and validation data due to lack of annotation on test data\n",
    "    # Seed\n",
    "    random.seed(1337)\n",
    "    \n",
    "    # Output Directory\n",
    "    # !!! Change this to your clone folder\n",
    "    baseOutputDir = \"/home/oracl4/project/RoadDamageDetection/training/dataset/rddJapanIndiaFiltered/\"\n",
    "    countryName = Path(baseDir).parents[0]\n",
    "    countryName = os.path.split(countryName)[1]\n",
    "\n",
    "    baseImageDir = baseDir + \"images/\"\n",
    "    baseAnnotDir = baseDir + \"labels/\"\n",
    "\n",
    "    image_list_all = sorted(glob.glob(baseImageDir + \"/*\"))\n",
    "    annot_list_all = sorted(glob.glob(baseAnnotDir + \"/*\"))\n",
    "\n",
    "    # Drop any images that doesnt have annotation (background)\n",
    "    # Or just leave it at some percentage of the dataset\n",
    "    backgroundImages_Percentage = 0.1\n",
    "    image_list = []\n",
    "    annot_list = []\n",
    "    \n",
    "    dataset_length_all = len(image_list_all)\n",
    "    max_background_image = int(dataset_length_all*backgroundImages_Percentage)\n",
    "    _counter = 0\n",
    "\n",
    "    for i in range(len(annot_list_all)):\n",
    "        \n",
    "        with open(annot_list_all[i]) as f:\n",
    "            _annot = f.read()\n",
    "\n",
    "            # Annotation not empty\n",
    "            if _annot:\n",
    "                image_list.append(image_list_all[i])\n",
    "                annot_list.append(annot_list_all[i])\n",
    "            elif _counter < max_background_image:\n",
    "                image_list.append(image_list_all[i])\n",
    "                annot_list.append(annot_list_all[i])\n",
    "                _counter = _counter + 1\n",
    "                \n",
    "    # Dataset length\n",
    "    dataset_length = len(image_list)\n",
    "    # print(dataset_length, len(annot_list))\n",
    "\n",
    "    split_ratio = 0.9\n",
    "    middle_point = round(split_ratio * dataset_length)\n",
    "\n",
    "    # Create random list number using seed\n",
    "    numberList = list(range(0, dataset_length))\n",
    "    random.shuffle(numberList)\n",
    "    trainNumberList = numberList[:middle_point]\n",
    "    validNumberList = numberList[middle_point:]\n",
    "    print(\"Training/Validation Samples :\", len(trainNumberList), len(validNumberList))\n",
    "\n",
    "    # Training images and labels\n",
    "    print(\"Copying training images and labels for\", countryName)\n",
    "    for i in tqdm(trainNumberList):\n",
    "\n",
    "        # Images\n",
    "        outputImagesDir = baseOutputDir + countryName + \"/images/train/\"\n",
    "        if not os.path.exists(outputImagesDir):\n",
    "            os.makedirs(outputImagesDir)\n",
    "\n",
    "        shutil.copy2(image_list[i], outputImagesDir)\n",
    "\n",
    "        # Annotations\n",
    "        outputAnnotDir = baseOutputDir + countryName + \"/labels/train/\"\n",
    "        if not os.path.exists(outputAnnotDir):\n",
    "            os.makedirs(outputAnnotDir)\n",
    "\n",
    "        shutil.copy2(annot_list[i], outputAnnotDir)\n",
    "        # print(outputImagesDir, outputAnnotDir)\n",
    "\n",
    "    # Validation images and labels\n",
    "    print(\"Copying validation images and labels for\", countryName)\n",
    "    for i in tqdm(validNumberList):\n",
    "\n",
    "        # Images\n",
    "        outputImagesDir = baseOutputDir + countryName + \"/images/val/\"\n",
    "        if not os.path.exists(outputImagesDir):\n",
    "            os.makedirs(outputImagesDir)\n",
    "\n",
    "        shutil.copy2(image_list[i], outputImagesDir)\n",
    "\n",
    "        # Annotations\n",
    "        outputAnnotDir = baseOutputDir + countryName + \"/labels/val/\"\n",
    "        if not os.path.exists(outputAnnotDir):\n",
    "            os.makedirs(outputAnnotDir)\n",
    "\n",
    "        shutil.copy2(annot_list[i], outputAnnotDir)\n",
    "        # print(outputImagesDir, outputAnnotDir)\n",
    "\n",
    "# baseDir = \"../dataset/RDD2022/RDD2022_all_countries/Japan/train/\"\n",
    "# CopyDatasetSplit(baseDir)"
   ]
  },
  {
   "cell_type": "code",
   "execution_count": 8,
   "metadata": {},
   "outputs": [
    {
     "name": "stdout",
     "output_type": "stream",
     "text": [
      "Training/Validation Samples : 8055 895\n",
      "Copying training images and labels for Japan\n"
     ]
    },
    {
     "name": "stderr",
     "output_type": "stream",
     "text": [
      "100%|██████████| 8055/8055 [02:10<00:00, 61.57it/s]\n"
     ]
    },
    {
     "name": "stdout",
     "output_type": "stream",
     "text": [
      "Copying validation images and labels for Japan\n"
     ]
    },
    {
     "name": "stderr",
     "output_type": "stream",
     "text": [
      "100%|██████████| 895/895 [00:17<00:00, 52.22it/s]\n"
     ]
    },
    {
     "name": "stdout",
     "output_type": "stream",
     "text": [
      "Training/Validation Samples : 3594 399\n",
      "Copying training images and labels for India\n"
     ]
    },
    {
     "name": "stderr",
     "output_type": "stream",
     "text": [
      "100%|██████████| 3594/3594 [01:04<00:00, 55.47it/s]\n"
     ]
    },
    {
     "name": "stdout",
     "output_type": "stream",
     "text": [
      "Copying validation images and labels for India\n"
     ]
    },
    {
     "name": "stderr",
     "output_type": "stream",
     "text": [
      "100%|██████████| 399/399 [00:07<00:00, 52.04it/s]\n"
     ]
    }
   ],
   "source": [
    "# Base Directory\n",
    "ROOTDIR = \"/home/oracl4/project/rdd/dataset/RDD2022/\"\n",
    "\n",
    "# Use only japan india\n",
    "CountryListDir = [\"RDD2022_all_countries/Japan/train/\",\n",
    "                  \"RDD2022_all_countries/India/train/\",\n",
    "                #   \"RDD2022_all_countries/China_Drone/train/\",\n",
    "                #   \"RDD2022_all_countries/China_MotorBike/train/\",\n",
    "                #   \"RDD2022/RDD2022_all_countries/Czech/train/\",\n",
    "                #   \"RDD2022/RDD2022_all_countries/Norway/Norway/train/\",\n",
    "                #   \"RDD2022/RDD2022_all_countries/United_States/United_States/train/\",\n",
    "]\n",
    "\n",
    "for CountryDir in CountryListDir:\n",
    "    CountryDir = ROOTDIR + CountryDir\n",
    "    CopyDatasetSplit(CountryDir)"
   ]
  },
  {
   "cell_type": "code",
   "execution_count": 10,
   "metadata": {},
   "outputs": [
    {
     "name": "stdout",
     "output_type": "stream",
     "text": [
      "\u001b[01;34m./\u001b[0m\n",
      "├── \u001b[01;34mdataset\u001b[0m\n",
      "│   └── \u001b[01;34mrddJapanIndiaFiltered\u001b[0m\n",
      "│       ├── \u001b[01;34mIndia\u001b[0m\n",
      "│       │   ├── \u001b[01;34mimages\u001b[0m\n",
      "│       │   │   ├── \u001b[01;34mtrain\u001b[0m\n",
      "│       │   │   └── \u001b[01;34mval\u001b[0m\n",
      "│       │   └── \u001b[01;34mlabels\u001b[0m\n",
      "│       │       ├── \u001b[01;34mtrain\u001b[0m\n",
      "│       │       └── \u001b[01;34mval\u001b[0m\n",
      "│       └── \u001b[01;34mJapan\u001b[0m\n",
      "│           ├── \u001b[01;34mimages\u001b[0m\n",
      "│           │   ├── \u001b[01;34mtrain\u001b[0m\n",
      "│           │   └── \u001b[01;34mval\u001b[0m\n",
      "│           └── \u001b[01;34mlabels\u001b[0m\n",
      "│               ├── \u001b[01;34mtrain\u001b[0m\n",
      "│               └── \u001b[01;34mval\u001b[0m\n",
      "└── \u001b[01;34mruns\u001b[0m\n",
      "\n",
      "17 directories\n"
     ]
    }
   ],
   "source": [
    "!tree ./ -d"
   ]
  },
  {
   "cell_type": "code",
   "execution_count": null,
   "metadata": {},
   "outputs": [],
   "source": []
  }
 ],
 "metadata": {
  "kernelspec": {
   "display_name": "rdd",
   "language": "python",
   "name": "python3"
  },
  "language_info": {
   "codemirror_mode": {
    "name": "ipython",
    "version": 3
   },
   "file_extension": ".py",
   "mimetype": "text/x-python",
   "name": "python",
   "nbconvert_exporter": "python",
   "pygments_lexer": "ipython3",
   "version": "3.8.18"
  }
 },
 "nbformat": 4,
 "nbformat_minor": 2
}
